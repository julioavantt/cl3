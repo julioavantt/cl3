{
 "cells": [
  {
   "cell_type": "markdown",
   "id": "001f9d2d",
   "metadata": {},
   "source": [
    "##### append (agrega elemento al final)"
   ]
  },
  {
   "cell_type": "code",
   "execution_count": null,
   "id": "6e7d9a66",
   "metadata": {},
   "outputs": [],
   "source": [
    "lista = [1,2,3,5]\n",
    "lista.append(8)\n",
    "print(lista)"
   ]
  },
  {
   "cell_type": "markdown",
   "id": "a180405e",
   "metadata": {},
   "source": [
    "##### insert (inserta en posición específica)"
   ]
  },
  {
   "cell_type": "code",
   "execution_count": null,
   "id": "9c42279c",
   "metadata": {},
   "outputs": [],
   "source": [
    "lista = [1,2,3,5]\n",
    "lista.insert(1,9) # 1 es el índice.\n",
    "print(lista)"
   ]
  },
  {
   "cell_type": "markdown",
   "id": "44deca12",
   "metadata": {},
   "source": [
    "##### remove (elimina primera ocurrencia del valor)"
   ]
  },
  {
   "cell_type": "code",
   "execution_count": null,
   "id": "0dc0d219",
   "metadata": {},
   "outputs": [],
   "source": [
    "lista = [1,2,3,5,2]\n",
    "lista.remove(2) \n",
    "print(lista)"
   ]
  },
  {
   "cell_type": "markdown",
   "id": "8fd93a15",
   "metadata": {},
   "source": [
    "##### sort (ordena)"
   ]
  },
  {
   "cell_type": "code",
   "execution_count": null,
   "id": "473a23f7",
   "metadata": {},
   "outputs": [],
   "source": [
    "lista = [1,2,3,5,2]\n",
    "lista.sort() \n",
    "print(lista)"
   ]
  },
  {
   "cell_type": "markdown",
   "id": "316f5438",
   "metadata": {},
   "source": [
    "##### reverse (invierte el orden)"
   ]
  },
  {
   "cell_type": "code",
   "execution_count": null,
   "id": "ce4b3505",
   "metadata": {},
   "outputs": [],
   "source": [
    "lista = [1,2,3,5,7]\n",
    "lista.reverse() \n",
    "print(lista)"
   ]
  },
  {
   "cell_type": "markdown",
   "id": "2ea069df",
   "metadata": {},
   "source": [
    "##### index (devuelve el índice de la primera ocurrencia)"
   ]
  },
  {
   "cell_type": "code",
   "execution_count": null,
   "id": "11cb7f28",
   "metadata": {},
   "outputs": [],
   "source": [
    "lista = [1,2,3,5,7,2]\n",
    "print(lista.index(2)) "
   ]
  },
  {
   "cell_type": "markdown",
   "id": "23bf9e07",
   "metadata": {},
   "source": [
    "##### count (cuenta ocurrencias del valor)"
   ]
  },
  {
   "cell_type": "code",
   "execution_count": null,
   "id": "8da1fa92",
   "metadata": {},
   "outputs": [],
   "source": [
    "lista = [1,2,3,5,7,2]\n",
    "print(lista.count(2))"
   ]
  },
  {
   "cell_type": "markdown",
   "id": "1b5b6411",
   "metadata": {},
   "source": [
    "##### clear (elimina todos los elementos)"
   ]
  },
  {
   "cell_type": "code",
   "execution_count": null,
   "id": "712d2dc7",
   "metadata": {},
   "outputs": [],
   "source": [
    "lista = [1,2,3,5,7,2]\n",
    "lista.clear()\n",
    "print(lista)"
   ]
  },
  {
   "cell_type": "markdown",
   "id": "82c53215",
   "metadata": {},
   "source": [
    "##### copy (crea una copia de la lista)"
   ]
  },
  {
   "cell_type": "code",
   "execution_count": null,
   "id": "106d617e",
   "metadata": {},
   "outputs": [],
   "source": [
    "lista = [1,2,3,5,7,2]\n",
    "lista2 = lista.copy()\n",
    "print(lista)\n",
    "print(lista2)"
   ]
  }
 ],
 "metadata": {
  "kernelspec": {
   "display_name": "Python 3",
   "language": "python",
   "name": "python3"
  },
  "language_info": {
   "codemirror_mode": {
    "name": "ipython",
    "version": 3
   },
   "file_extension": ".py",
   "mimetype": "text/x-python",
   "name": "python",
   "nbconvert_exporter": "python",
   "pygments_lexer": "ipython3",
   "version": "3.10.12"
  }
 },
 "nbformat": 4,
 "nbformat_minor": 5
}
