{
 "cells": [
  {
   "cell_type": "markdown",
   "id": "58a07dee",
   "metadata": {},
   "source": [
    "##### While "
   ]
  },
  {
   "cell_type": "code",
   "execution_count": 1,
   "id": "153551db",
   "metadata": {},
   "outputs": [
    {
     "name": "stdout",
     "output_type": "stream",
     "text": [
      "0\n",
      "1\n",
      "2\n",
      "3\n",
      "4\n"
     ]
    }
   ],
   "source": [
    "num = 0\n",
    "\n",
    "while(num < 5):\n",
    "    print(num)\n",
    "    num += 1"
   ]
  },
  {
   "cell_type": "code",
   "execution_count": 4,
   "id": "c1a3879f",
   "metadata": {},
   "outputs": [
    {
     "name": "stdout",
     "output_type": "stream",
     "text": [
      "Número aleatorio: 1\n",
      "Número aleatorio: 2\n",
      "Número aleatorio: 1\n",
      "Número aleatorio: 6\n",
      "Número aleatorio: 3\n",
      "Fin del programa\n"
     ]
    }
   ],
   "source": [
    "import random\n",
    "\n",
    "menu  = input(\"Menu: 1) Elegir número aleatorio. 2) Salir.\")\n",
    "\n",
    "while(menu != \"2\"):\n",
    "    numero = random.randint(1, 10)\n",
    "    print(f\"Número aleatorio: {numero}\")\n",
    "    menu  = input(\"Menu: 1) Elegir número aleatorio. 2) Salir.\")\n",
    "\n",
    "print(\"Fin del programa\")"
   ]
  }
 ],
 "metadata": {
  "kernelspec": {
   "display_name": "Python 3",
   "language": "python",
   "name": "python3"
  },
  "language_info": {
   "codemirror_mode": {
    "name": "ipython",
    "version": 3
   },
   "file_extension": ".py",
   "mimetype": "text/x-python",
   "name": "python",
   "nbconvert_exporter": "python",
   "pygments_lexer": "ipython3",
   "version": "3.10.12"
  }
 },
 "nbformat": 4,
 "nbformat_minor": 5
}
