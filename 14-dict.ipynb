{
 "cells": [
  {
   "cell_type": "markdown",
   "id": "2a564086",
   "metadata": {},
   "source": [
    "##### dict"
   ]
  },
  {
   "cell_type": "code",
   "execution_count": null,
   "id": "1b076092",
   "metadata": {},
   "outputs": [],
   "source": [
    "mi_diccionario = {\n",
    "    \"nombre\": \"Julio\",\n",
    "    \"apellido\": \"Avantt\",\n",
    "    \"edad\": 46,\n",
    "    \"rol\": \"muchos\"\n",
    "}\n",
    "print(mi_diccionario)"
   ]
  },
  {
   "cell_type": "markdown",
   "id": "55f7fbc9",
   "metadata": {},
   "source": [
    "##### Acceder a valores"
   ]
  },
  {
   "cell_type": "code",
   "execution_count": null,
   "id": "82068a52",
   "metadata": {},
   "outputs": [],
   "source": [
    "mi_diccionario = {\n",
    "    \"nombre\": \"Julio\",\n",
    "    \"edad\": 46,\n",
    "}\n",
    "\n",
    "mi_nombre = mi_diccionario[\"nombre\"]\n",
    "print(f\"Mi nombres es {mi_nombre}\")"
   ]
  },
  {
   "cell_type": "markdown",
   "id": "69be1d14",
   "metadata": {},
   "source": [
    "##### Modificar valores"
   ]
  },
  {
   "cell_type": "code",
   "execution_count": null,
   "id": "75806e47",
   "metadata": {},
   "outputs": [],
   "source": [
    "mi_diccionario = {\n",
    "    \"nombre\": \"Julio\",\n",
    "    \"edad\": 46,\n",
    "}\n",
    "mi_diccionario[\"nombre\"] = \"Lucía\"\n",
    "print(mi_diccionario)"
   ]
  },
  {
   "cell_type": "markdown",
   "id": "38b9df50",
   "metadata": {},
   "source": [
    "##### Agregar valores"
   ]
  },
  {
   "cell_type": "code",
   "execution_count": null,
   "id": "a3bd24ce",
   "metadata": {},
   "outputs": [],
   "source": [
    "mi_diccionario = {\n",
    "    \"nombre\": \"Julio\",\n",
    "    \"edad\": 46,\n",
    "}\n",
    "mi_diccionario[\"conocimientos\"] = \"Un montón\"\n",
    "print(mi_diccionario)"
   ]
  },
  {
   "cell_type": "markdown",
   "id": "de426570",
   "metadata": {},
   "source": [
    "##### Eliminar propiedad y valor"
   ]
  },
  {
   "cell_type": "code",
   "execution_count": null,
   "id": "8fecf87e",
   "metadata": {},
   "outputs": [],
   "source": [
    "mi_diccionario = {\n",
    "    \"nombre\": \"Julio\",\n",
    "    \"edad\": 46,\n",
    "    \"rol\": \"muchos\"\n",
    "}\n",
    "del mi_diccionario[\"rol\"]\n",
    "print(mi_diccionario)"
   ]
  }
 ],
 "metadata": {
  "kernelspec": {
   "display_name": "Python 3",
   "language": "python",
   "name": "python3"
  },
  "language_info": {
   "codemirror_mode": {
    "name": "ipython",
    "version": 3
   },
   "file_extension": ".py",
   "mimetype": "text/x-python",
   "name": "python",
   "nbconvert_exporter": "python",
   "pygments_lexer": "ipython3",
   "version": "3.10.12"
  }
 },
 "nbformat": 4,
 "nbformat_minor": 5
}
