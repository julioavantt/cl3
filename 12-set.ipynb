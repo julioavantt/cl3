{
 "cells": [
  {
   "cell_type": "markdown",
   "id": "9208e801",
   "metadata": {},
   "source": [
    "##### set"
   ]
  },
  {
   "cell_type": "code",
   "execution_count": null,
   "id": "34ef9380",
   "metadata": {},
   "outputs": [],
   "source": [
    "valores_unicos = {1,\"r\"}"
   ]
  },
  {
   "cell_type": "markdown",
   "id": "0c295925",
   "metadata": {},
   "source": [
    "##### Accesores"
   ]
  },
  {
   "cell_type": "code",
   "execution_count": null,
   "id": "94d83410",
   "metadata": {},
   "outputs": [],
   "source": [
    "valores_unicos = {1,\"r\"}\n",
    "lista_valores_unicos = list(valores_unicos)\n",
    "print(lista_valores_unicos[1])"
   ]
  },
  {
   "cell_type": "markdown",
   "id": "4d9d2c38",
   "metadata": {},
   "source": [
    "##### Agregar y remover"
   ]
  },
  {
   "cell_type": "code",
   "execution_count": null,
   "id": "5d4887cc",
   "metadata": {},
   "outputs": [],
   "source": [
    "valores_unicos = {1,\"r\"}\n",
    "valores_unicos.add(2)\n",
    "print(valores_unicos)\n",
    "print(\"---\")\n",
    "valores_unicos.discard(1) # Si no encuentra el valor no hay error.\n",
    "print(valores_unicos)"
   ]
  }
 ],
 "metadata": {
  "kernelspec": {
   "display_name": "Python 3",
   "language": "python",
   "name": "python3"
  },
  "language_info": {
   "codemirror_mode": {
    "name": "ipython",
    "version": 3
   },
   "file_extension": ".py",
   "mimetype": "text/x-python",
   "name": "python",
   "nbconvert_exporter": "python",
   "pygments_lexer": "ipython3",
   "version": "3.10.12"
  }
 },
 "nbformat": 4,
 "nbformat_minor": 5
}
