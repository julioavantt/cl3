{
 "cells": [
  {
   "cell_type": "markdown",
   "id": "59ef380b",
   "metadata": {},
   "source": [
    "##### list"
   ]
  },
  {
   "cell_type": "code",
   "execution_count": null,
   "id": "b183f71b",
   "metadata": {},
   "outputs": [],
   "source": [
    "compras = [\"pan\", \"huevos\", \"leche\", \"fruta\"]\n",
    "print(type(compras))\n",
    "print(compras)  "
   ]
  },
  {
   "cell_type": "markdown",
   "id": "7f79e053",
   "metadata": {},
   "source": [
    "##### Accesor por índice"
   ]
  },
  {
   "cell_type": "code",
   "execution_count": null,
   "id": "2386c3d0",
   "metadata": {},
   "outputs": [],
   "source": [
    "compras = [\"pan\", \"huevos\", \"leche\", \"fruta\"]\n",
    "print(compras[2])  # Tercer elemento"
   ]
  },
  {
   "cell_type": "markdown",
   "id": "2f165c5b",
   "metadata": {},
   "source": [
    "##### Mutación de elementos por índice"
   ]
  },
  {
   "cell_type": "code",
   "execution_count": null,
   "id": "d431df9d",
   "metadata": {},
   "outputs": [],
   "source": [
    "compras = [\"pan\", \"huevos\", \"meche\", \"fruta\"]\n",
    "compras[2] = \"leche\"\n",
    "print(compras)  "
   ]
  },
  {
   "cell_type": "markdown",
   "id": "57c4bda3",
   "metadata": {},
   "source": [
    "##### Slicing"
   ]
  },
  {
   "cell_type": "code",
   "execution_count": null,
   "id": "b251e854",
   "metadata": {},
   "outputs": [],
   "source": [
    "compras = [\"pan\", \"huevos\", \"leche\", \"fruta\"]\n",
    "print(compras[1:3])  # Elementos desde el índice 1 hasta el 2 (3 no incluido)"
   ]
  },
  {
   "cell_type": "markdown",
   "id": "d93221f5",
   "metadata": {},
   "source": [
    "##### Reverse vía slicing"
   ]
  },
  {
   "cell_type": "code",
   "execution_count": null,
   "id": "1c8d208d",
   "metadata": {},
   "outputs": [],
   "source": [
    "compras = [\"pan\", \"huevos\", \"leche\", \"fruta\"]\n",
    "print(compras[::-1])"
   ]
  }
 ],
 "metadata": {
  "kernelspec": {
   "display_name": "Python 3",
   "language": "python",
   "name": "python3"
  },
  "language_info": {
   "codemirror_mode": {
    "name": "ipython",
    "version": 3
   },
   "file_extension": ".py",
   "mimetype": "text/x-python",
   "name": "python",
   "nbconvert_exporter": "python",
   "pygments_lexer": "ipython3",
   "version": "3.10.12"
  }
 },
 "nbformat": 4,
 "nbformat_minor": 5
}
