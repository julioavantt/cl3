{
 "cells": [
  {
   "cell_type": "markdown",
   "id": "76785fef",
   "metadata": {},
   "source": [
    "##### And"
   ]
  },
  {
   "cell_type": "code",
   "execution_count": null,
   "id": "2e30b930",
   "metadata": {},
   "outputs": [],
   "source": [
    "print(True and True)\n",
    "print(True and False)\n",
    "print(False and True)\n",
    "print(False and False)\n",
    "print(\"---\")\n",
    "print(3 > 1 and 3 == 3)"
   ]
  },
  {
   "cell_type": "markdown",
   "id": "ee22e467",
   "metadata": {},
   "source": [
    "##### Or"
   ]
  },
  {
   "cell_type": "code",
   "execution_count": null,
   "id": "b2afa027",
   "metadata": {},
   "outputs": [],
   "source": [
    "print(True or True)\n",
    "print(True or False)\n",
    "print(False or True)\n",
    "print(False or False)\n",
    "print(\"---\")\n",
    "print(3 > 1 or 3 != 3)"
   ]
  },
  {
   "cell_type": "markdown",
   "id": "6cc06ca3",
   "metadata": {},
   "source": [
    "##### Not"
   ]
  },
  {
   "cell_type": "code",
   "execution_count": null,
   "id": "35c3f6d8",
   "metadata": {},
   "outputs": [],
   "source": [
    "print(not True)\n",
    "print(not 3 == 2)"
   ]
  }
 ],
 "metadata": {
  "kernelspec": {
   "display_name": "Python 3",
   "language": "python",
   "name": "python3"
  },
  "language_info": {
   "codemirror_mode": {
    "name": "ipython",
    "version": 3
   },
   "file_extension": ".py",
   "mimetype": "text/x-python",
   "name": "python",
   "nbconvert_exporter": "python",
   "pygments_lexer": "ipython3",
   "version": "3.10.12"
  }
 },
 "nbformat": 4,
 "nbformat_minor": 5
}
