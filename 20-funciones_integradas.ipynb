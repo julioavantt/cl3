{
 "cells": [
  {
   "cell_type": "markdown",
   "id": "ab49a8ff",
   "metadata": {},
   "source": [
    "##### Sum"
   ]
  },
  {
   "cell_type": "code",
   "execution_count": 1,
   "id": "8a1707e2",
   "metadata": {},
   "outputs": [
    {
     "name": "stdout",
     "output_type": "stream",
     "text": [
      "15\n"
     ]
    }
   ],
   "source": [
    "lista = [1, 2, 3, 4, 5]\n",
    "\n",
    "print(sum(lista))"
   ]
  },
  {
   "cell_type": "markdown",
   "id": "f2ca14cc",
   "metadata": {},
   "source": [
    "##### Min"
   ]
  },
  {
   "cell_type": "code",
   "execution_count": 2,
   "id": "f858cc84",
   "metadata": {},
   "outputs": [
    {
     "name": "stdout",
     "output_type": "stream",
     "text": [
      "1\n"
     ]
    }
   ],
   "source": [
    "lista = [1, 2, 3, 4, 5]\n",
    "print(min(lista))"
   ]
  },
  {
   "cell_type": "markdown",
   "id": "5a8b3e79",
   "metadata": {},
   "source": [
    "##### Max"
   ]
  },
  {
   "cell_type": "code",
   "execution_count": 3,
   "id": "71cedd8b",
   "metadata": {},
   "outputs": [
    {
     "name": "stdout",
     "output_type": "stream",
     "text": [
      "5\n"
     ]
    }
   ],
   "source": [
    "lista = [1, 2, 3, 4, 5]\n",
    "print(max(lista))"
   ]
  },
  {
   "cell_type": "markdown",
   "id": "6fc0770d",
   "metadata": {},
   "source": [
    "##### Abs (valor absoluto)"
   ]
  },
  {
   "cell_type": "code",
   "execution_count": 4,
   "id": "1446aaaa",
   "metadata": {},
   "outputs": [
    {
     "name": "stdout",
     "output_type": "stream",
     "text": [
      "7\n"
     ]
    }
   ],
   "source": [
    "print(abs(-7))"
   ]
  }
 ],
 "metadata": {
  "kernelspec": {
   "display_name": "Python 3",
   "language": "python",
   "name": "python3"
  },
  "language_info": {
   "codemirror_mode": {
    "name": "ipython",
    "version": 3
   },
   "file_extension": ".py",
   "mimetype": "text/x-python",
   "name": "python",
   "nbconvert_exporter": "python",
   "pygments_lexer": "ipython3",
   "version": "3.10.12"
  }
 },
 "nbformat": 4,
 "nbformat_minor": 5
}
