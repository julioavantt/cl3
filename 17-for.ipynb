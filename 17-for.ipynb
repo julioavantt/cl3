{
 "cells": [
  {
   "cell_type": "markdown",
   "id": "c5aea576",
   "metadata": {},
   "source": [
    "##### For"
   ]
  },
  {
   "cell_type": "code",
   "execution_count": null,
   "id": "91956ec0",
   "metadata": {},
   "outputs": [],
   "source": [
    "# in list\n",
    "\n",
    "lista = [1,3,7,9,11,13,15,17,19,21]\n",
    "\n",
    "for numero in lista:\n",
    "    print(numero)"
   ]
  },
  {
   "cell_type": "code",
   "execution_count": 5,
   "id": "a149a61d",
   "metadata": {},
   "outputs": [
    {
     "name": "stdout",
     "output_type": "stream",
     "text": [
      "1\n",
      "3\n",
      "7\n",
      "9\n",
      "11\n"
     ]
    }
   ],
   "source": [
    "# range\n",
    "\n",
    "lista = [1,3,7,9,11,13,15,17,19,21]\n",
    "\n",
    "for elemento in range(5):\n",
    "    print(lista[elemento])"
   ]
  },
  {
   "cell_type": "code",
   "execution_count": 6,
   "id": "3b39d199",
   "metadata": {},
   "outputs": [
    {
     "name": "stdout",
     "output_type": "stream",
     "text": [
      "1\n",
      "3\n",
      "7\n",
      "9\n",
      "11\n",
      "15\n",
      "17\n",
      "19\n",
      "21\n"
     ]
    }
   ],
   "source": [
    "# Escapar elementos en un for\n",
    "\n",
    "lista = [1,3,7,9,11,13,15,17,19,21]\n",
    "\n",
    "for numero in lista:\n",
    "    if(numero == 13):\n",
    "        continue\n",
    "    print(numero)"
   ]
  },
  {
   "cell_type": "code",
   "execution_count": 7,
   "id": "16f25cd9",
   "metadata": {},
   "outputs": [
    {
     "name": "stdout",
     "output_type": "stream",
     "text": [
      "1\n",
      "3\n",
      "7\n",
      "9\n",
      "11\n"
     ]
    }
   ],
   "source": [
    "# Retorno anticipado en un for\n",
    "\n",
    "lista = [1,3,7,9,11,13,15,17,19,21]\n",
    "\n",
    "for numero in lista:\n",
    "    if(numero == 13):\n",
    "        break\n",
    "    print(numero)"
   ]
  }
 ],
 "metadata": {
  "kernelspec": {
   "display_name": "Python 3",
   "language": "python",
   "name": "python3"
  },
  "language_info": {
   "codemirror_mode": {
    "name": "ipython",
    "version": 3
   },
   "file_extension": ".py",
   "mimetype": "text/x-python",
   "name": "python",
   "nbconvert_exporter": "python",
   "pygments_lexer": "ipython3",
   "version": "3.10.12"
  }
 },
 "nbformat": 4,
 "nbformat_minor": 5
}
