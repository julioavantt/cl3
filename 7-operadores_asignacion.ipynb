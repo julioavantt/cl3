{
 "cells": [
  {
   "cell_type": "code",
   "execution_count": null,
   "id": "14d47a29",
   "metadata": {},
   "outputs": [],
   "source": [
    "edad = 18\n",
    "edad += 5\n",
    "print(edad)\n",
    "print(\"---\")\n",
    "edad -= 2\n",
    "print(edad)\n",
    "print(\"---\")\n",
    "edad *= 4\n",
    "print(edad)\n",
    "print(\"---\")\n",
    "edad //= 3\n",
    "print(edad)\n",
    "print(\"---\")\n",
    "edad /= 3\n",
    "print(edad)"
   ]
  }
 ],
 "metadata": {
  "kernelspec": {
   "display_name": "Python 3",
   "language": "python",
   "name": "python3"
  },
  "language_info": {
   "codemirror_mode": {
    "name": "ipython",
    "version": 3
   },
   "file_extension": ".py",
   "mimetype": "text/x-python",
   "name": "python",
   "nbconvert_exporter": "python",
   "pygments_lexer": "ipython3",
   "version": "3.10.12"
  }
 },
 "nbformat": 4,
 "nbformat_minor": 5
}
