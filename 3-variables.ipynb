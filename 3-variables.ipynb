{
 "cells": [
  {
   "cell_type": "markdown",
   "id": "935445a5",
   "metadata": {},
   "source": [
    "##### Crear asignando valor"
   ]
  },
  {
   "cell_type": "code",
   "execution_count": null,
   "id": "016e4637",
   "metadata": {},
   "outputs": [],
   "source": [
    "mi_nombre = \"Julio\"\n",
    "print(mi_nombre)"
   ]
  },
  {
   "cell_type": "markdown",
   "id": "8f0344c2",
   "metadata": {},
   "source": [
    "##### Reasignar"
   ]
  },
  {
   "cell_type": "code",
   "execution_count": null,
   "id": "ba48ce30",
   "metadata": {},
   "outputs": [],
   "source": [
    "mi_edad_actual_en_2025 = 18           # De aportes\n",
    "mi_edad_actual_en_2025 = 46    \n",
    "print(mi_edad_actual_en_2025)\n",
    "\n",
    "mi_edad_actual_en_2025 = \"cuarenta y seis\"\n",
    "print(mi_edad_actual_en_2025)"
   ]
  }
 ],
 "metadata": {
  "kernelspec": {
   "display_name": "Python 3",
   "language": "python",
   "name": "python3"
  },
  "language_info": {
   "codemirror_mode": {
    "name": "ipython",
    "version": 3
   },
   "file_extension": ".py",
   "mimetype": "text/x-python",
   "name": "python",
   "nbconvert_exporter": "python",
   "pygments_lexer": "ipython3",
   "version": "3.10.12"
  }
 },
 "nbformat": 4,
 "nbformat_minor": 5
}
