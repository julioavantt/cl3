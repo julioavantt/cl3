{
 "cells": [
  {
   "cell_type": "markdown",
   "id": "67aefbda",
   "metadata": {},
   "source": [
    "##### int (Enteros)"
   ]
  },
  {
   "cell_type": "code",
   "execution_count": null,
   "id": "a12c24bf",
   "metadata": {},
   "outputs": [],
   "source": [
    "print(type(4))\n",
    "print(type(-5))\n",
    "print(type(0))"
   ]
  },
  {
   "cell_type": "markdown",
   "id": "ef1661e3",
   "metadata": {},
   "source": [
    "##### float (números con decimales)"
   ]
  },
  {
   "cell_type": "code",
   "execution_count": null,
   "id": "a21078ae",
   "metadata": {},
   "outputs": [],
   "source": [
    "print(type(4.4555))\n",
    "print(type(-5.1))\n",
    "print(type(0.11))"
   ]
  },
  {
   "cell_type": "markdown",
   "id": "e6ebb0c2",
   "metadata": {},
   "source": [
    "##### str (cadenas de texto)"
   ]
  },
  {
   "cell_type": "code",
   "execution_count": null,
   "id": "7246d58e",
   "metadata": {},
   "outputs": [],
   "source": [
    "print(type(\"H\"))\n",
    "print(type(\"hola\"))\n",
    "print(type(\"Hola mundo\"))"
   ]
  },
  {
   "cell_type": "markdown",
   "id": "57bc5c4d",
   "metadata": {},
   "source": [
    "##### bool (verdadero - falso)"
   ]
  },
  {
   "cell_type": "code",
   "execution_count": null,
   "id": "e66b5ccc",
   "metadata": {},
   "outputs": [],
   "source": [
    "print(type(True))\n",
    "print(type(False))"
   ]
  },
  {
   "cell_type": "markdown",
   "id": "fe794674",
   "metadata": {},
   "source": [
    "##### NoneType (Ausencia de valor)"
   ]
  },
  {
   "cell_type": "code",
   "execution_count": null,
   "id": "d45b89fe",
   "metadata": {},
   "outputs": [],
   "source": [
    "print(type(None))"
   ]
  }
 ],
 "metadata": {
  "kernelspec": {
   "display_name": "Python 3",
   "language": "python",
   "name": "python3"
  },
  "language_info": {
   "codemirror_mode": {
    "name": "ipython",
    "version": 3
   },
   "file_extension": ".py",
   "mimetype": "text/x-python",
   "name": "python",
   "nbconvert_exporter": "python",
   "pygments_lexer": "ipython3",
   "version": "3.10.12"
  }
 },
 "nbformat": 4,
 "nbformat_minor": 5
}
