{
 "cells": [
  {
   "cell_type": "markdown",
   "id": "c88322cb",
   "metadata": {},
   "source": [
    "##### If"
   ]
  },
  {
   "cell_type": "code",
   "execution_count": null,
   "id": "103e2964",
   "metadata": {},
   "outputs": [
    {
     "name": "stdout",
     "output_type": "stream",
     "text": [
      "46\n",
      "---\n",
      "Julio\n"
     ]
    }
   ],
   "source": [
    "edad = 18 \n",
    "\n",
    "if(True):\n",
    "    edad += 28\n",
    "\n",
    "print(edad)\n",
    "\n",
    "print(\"---\")\n",
    "\n",
    "nombre = \"Julio\"\n",
    "\n",
    "if(False):\n",
    "    nombre = \"Lucía\"\n",
    "\n",
    "print(nombre)"
   ]
  },
  {
   "cell_type": "code",
   "execution_count": 7,
   "id": "f539d5a5",
   "metadata": {},
   "outputs": [
    {
     "name": "stdout",
     "output_type": "stream",
     "text": [
      "Estamos en 2025\n"
     ]
    }
   ],
   "source": [
    "from datetime import datetime\n",
    "\n",
    "anio_actual = datetime.now().year\n",
    "print(f\"Estamos en {anio_actual}\")\n",
    "\n",
    "if(anio_actual == 2023):\n",
    "    print(\"Estoy medio defasada/o\")"
   ]
  },
  {
   "cell_type": "markdown",
   "id": "ec86732d",
   "metadata": {},
   "source": [
    "##### If else"
   ]
  },
  {
   "cell_type": "code",
   "execution_count": 8,
   "id": "ee791496",
   "metadata": {},
   "outputs": [
    {
     "name": "stdout",
     "output_type": "stream",
     "text": [
      "Ana\n"
     ]
    }
   ],
   "source": [
    "nombre = \"Julio\"\n",
    "numero = 5\n",
    "\n",
    "if(numero > 10):\n",
    "    nombre = \"Lucía\"\n",
    "else: # Captura todo lo que no entra en el if\n",
    "    nombre = \"Ana\"\n",
    "\n",
    "print(nombre)"
   ]
  },
  {
   "cell_type": "markdown",
   "id": "65b97231",
   "metadata": {},
   "source": [
    "##### If elif else"
   ]
  },
  {
   "cell_type": "code",
   "execution_count": null,
   "id": "95f0e739",
   "metadata": {},
   "outputs": [],
   "source": []
  },
  {
   "cell_type": "code",
   "execution_count": 9,
   "id": "e019734d",
   "metadata": {},
   "outputs": [
    {
     "name": "stdout",
     "output_type": "stream",
     "text": [
      "María\n"
     ]
    }
   ],
   "source": [
    "nombre = \"Julio\"\n",
    "numero = 5\n",
    "\n",
    "if(numero > 10):\n",
    "    nombre = \"Lucía\"\n",
    "elif(numero == 6): # Si no se cumple el if, entra en el elif\n",
    "    nombre = \"Pedro\"\n",
    "elif(numero == 5): \n",
    "    nombre = \"María\"\n",
    "else: \n",
    "    nombre = \"Ana\"\n",
    "\n",
    "print(nombre)"
   ]
  }
 ],
 "metadata": {
  "kernelspec": {
   "display_name": "Python 3",
   "language": "python",
   "name": "python3"
  },
  "language_info": {
   "codemirror_mode": {
    "name": "ipython",
    "version": 3
   },
   "file_extension": ".py",
   "mimetype": "text/x-python",
   "name": "python",
   "nbconvert_exporter": "python",
   "pygments_lexer": "ipython3",
   "version": "3.10.12"
  }
 },
 "nbformat": 4,
 "nbformat_minor": 5
}
