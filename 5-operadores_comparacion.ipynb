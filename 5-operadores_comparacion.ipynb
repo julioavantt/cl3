{
 "cells": [
  {
   "cell_type": "markdown",
   "id": "14e16f53",
   "metadata": {},
   "source": [
    "##### Igualdad y desigualdad"
   ]
  },
  {
   "cell_type": "code",
   "execution_count": null,
   "id": "1a4c7041",
   "metadata": {},
   "outputs": [],
   "source": [
    "print(3 == \"3\")\n",
    "print(3 == 3)\n",
    "print(3 == 4)\n",
    "print(\"---\")\n",
    "print(3 != 4)\n",
    "print(True != False)"
   ]
  },
  {
   "cell_type": "markdown",
   "id": "909ffe58",
   "metadata": {},
   "source": [
    "##### Mayor, mayor e igual, menor y menor e igual"
   ]
  },
  {
   "cell_type": "code",
   "execution_count": null,
   "id": "d9d10710",
   "metadata": {},
   "outputs": [],
   "source": [
    "print(45 > 34) \n",
    "print(3 >= 3)\n",
    "print(3 < 1)\n",
    "print(8 <= 8)"
   ]
  }
 ],
 "metadata": {
  "kernelspec": {
   "display_name": "Python 3",
   "language": "python",
   "name": "python3"
  },
  "language_info": {
   "codemirror_mode": {
    "name": "ipython",
    "version": 3
   },
   "file_extension": ".py",
   "mimetype": "text/x-python",
   "name": "python",
   "nbconvert_exporter": "python",
   "pygments_lexer": "ipython3",
   "version": "3.10.12"
  }
 },
 "nbformat": 4,
 "nbformat_minor": 5
}
