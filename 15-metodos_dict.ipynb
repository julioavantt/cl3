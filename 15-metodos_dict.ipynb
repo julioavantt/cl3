{
 "cells": [
  {
   "cell_type": "markdown",
   "id": "5bf0a854",
   "metadata": {},
   "source": [
    "##### keys (obtener claves)"
   ]
  },
  {
   "cell_type": "code",
   "execution_count": null,
   "id": "5b160fe6",
   "metadata": {},
   "outputs": [],
   "source": [
    "mi_diccionario = {\n",
    "    \"nombre\": \"Julio\",\n",
    "    \"apellido\": \"Avantt\",\n",
    "    \"edad\": 46,\n",
    "}\n",
    "print(mi_diccionario.keys())\n",
    "print(list(mi_diccionario.keys()))"
   ]
  },
  {
   "cell_type": "markdown",
   "id": "5cf1bf52",
   "metadata": {},
   "source": [
    "##### values (obtener valores)"
   ]
  },
  {
   "cell_type": "code",
   "execution_count": null,
   "id": "5ea52c11",
   "metadata": {},
   "outputs": [],
   "source": [
    "mi_diccionario = {\n",
    "    \"nombre\": \"Julio\",\n",
    "    \"apellido\": \"Avantt\",\n",
    "    \"edad\": 46,\n",
    "}\n",
    "print(mi_diccionario.values())\n",
    "print(list(mi_diccionario.values()))"
   ]
  },
  {
   "cell_type": "markdown",
   "id": "0b47f0bc",
   "metadata": {},
   "source": [
    "##### items (devuelve pares key - value como tuplas)"
   ]
  },
  {
   "cell_type": "code",
   "execution_count": null,
   "id": "23f17465",
   "metadata": {},
   "outputs": [],
   "source": [
    "mi_diccionario = {\n",
    "    \"nombre\": \"Julio\",\n",
    "    \"apellido\": \"Avantt\",\n",
    "    \"edad\": 46,\n",
    "}\n",
    "print(mi_diccionario.items())\n",
    "print(list(mi_diccionario.items()))"
   ]
  },
  {
   "cell_type": "markdown",
   "id": "51283c01",
   "metadata": {},
   "source": [
    "##### get (devuelve el valor de la clave o el valor por defecto)"
   ]
  },
  {
   "cell_type": "code",
   "execution_count": null,
   "id": "d9377a56",
   "metadata": {},
   "outputs": [],
   "source": [
    "mi_diccionario = {\n",
    "    \"nombre\": \"Julio\",\n",
    "    \"apellido\": \"Avantt\",\n",
    "    \"edad\": 46,\n",
    "}\n",
    "print(mi_diccionario.get(\"edad\"))\n",
    "print(mi_diccionario.get(\"pais\", \"Argentina\"))"
   ]
  },
  {
   "cell_type": "markdown",
   "id": "e25f1e17",
   "metadata": {},
   "source": [
    "##### update (actualiza un dict con items de otro dict)"
   ]
  },
  {
   "cell_type": "code",
   "execution_count": null,
   "id": "b8d09db0",
   "metadata": {},
   "outputs": [],
   "source": [
    "mi_diccionario = {\n",
    "    \"nombre\": \"Julio\",\n",
    "    \"edad\": 46,\n",
    "}\n",
    "agregados = {\n",
    "    \"nacionalidad\": \"Argentina\",\n",
    "    \"club\":\"Boca Juniors\"\n",
    "}\n",
    "mi_diccionario.update(agregados)\n",
    "print(mi_diccionario)"
   ]
  },
  {
   "cell_type": "markdown",
   "id": "20c11c67",
   "metadata": {},
   "source": [
    "##### pop (elimina una clave y devuelve su valor)"
   ]
  },
  {
   "cell_type": "code",
   "execution_count": null,
   "id": "1b6aa32e",
   "metadata": {},
   "outputs": [],
   "source": [
    "mi_diccionario = {\n",
    "    \"nombre\": \"Julio\",\n",
    "    \"edad\": 46,\n",
    "}\n",
    "print(mi_diccionario.pop(\"edad\"))\n",
    "print(mi_diccionario)"
   ]
  },
  {
   "cell_type": "markdown",
   "id": "a82597ff",
   "metadata": {},
   "source": [
    "##### setdefault (devuelve el valor de la clave; si no existe, la crea con el valor por defecto)"
   ]
  },
  {
   "cell_type": "code",
   "execution_count": null,
   "id": "2b4ff642",
   "metadata": {},
   "outputs": [],
   "source": [
    "mi_diccionario = {\n",
    "    \"nombre\": \"Julio\",\n",
    "    \"edad\": 46,\n",
    "}\n",
    "print(mi_diccionario.setdefault(\"edad\"))\n",
    "print(mi_diccionario.setdefault(\"auto\", True))\n",
    "print(mi_diccionario)"
   ]
  },
  {
   "cell_type": "markdown",
   "id": "5c1b1aca",
   "metadata": {},
   "source": [
    "##### clear (elimina todos los elementos del diccionario)"
   ]
  },
  {
   "cell_type": "code",
   "execution_count": null,
   "id": "4a3a7a6c",
   "metadata": {},
   "outputs": [],
   "source": [
    "mi_diccionario = {\n",
    "    \"nombre\": \"Julio\",\n",
    "    \"apellido\": \"Avantt\",\n",
    "}\n",
    "mi_diccionario.clear()\n",
    "print(mi_diccionario)"
   ]
  },
  {
   "cell_type": "markdown",
   "id": "788cdb04",
   "metadata": {},
   "source": [
    "##### copy (devuelve una copia superficial del diccionario)"
   ]
  },
  {
   "cell_type": "code",
   "execution_count": null,
   "id": "b36ec89d",
   "metadata": {},
   "outputs": [],
   "source": [
    "mi_diccionario = {\n",
    "    \"nombre\": \"Julio\",\n",
    "    \"apellido\": \"Avantt\",\n",
    "}\n",
    "mi_diccionario2 = mi_diccionario.copy()\n",
    "print(mi_diccionario)\n",
    "print(mi_diccionario2)"
   ]
  }
 ],
 "metadata": {
  "kernelspec": {
   "display_name": "Python 3",
   "language": "python",
   "name": "python3"
  },
  "language_info": {
   "codemirror_mode": {
    "name": "ipython",
    "version": 3
   },
   "file_extension": ".py",
   "mimetype": "text/x-python",
   "name": "python",
   "nbconvert_exporter": "python",
   "pygments_lexer": "ipython3",
   "version": "3.10.12"
  }
 },
 "nbformat": 4,
 "nbformat_minor": 5
}
