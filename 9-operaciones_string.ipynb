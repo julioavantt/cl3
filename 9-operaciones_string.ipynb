{
 "cells": [
  {
   "cell_type": "markdown",
   "id": "0ab41681",
   "metadata": {},
   "source": [
    "##### Interpolación (variables y strings)"
   ]
  },
  {
   "cell_type": "code",
   "execution_count": null,
   "id": "c1097920",
   "metadata": {},
   "outputs": [],
   "source": [
    "nombre = \"Julio\"\n",
    "apellido = 'Epumer'\n",
    "\n",
    "print(f\"Mi nombre es {nombre} y mi apellido es {apellido}\")"
   ]
  },
  {
   "cell_type": "markdown",
   "id": "80b60437",
   "metadata": {},
   "source": [
    "##### Slicing (rebanar)"
   ]
  },
  {
   "cell_type": "code",
   "execution_count": null,
   "id": "374f8872",
   "metadata": {},
   "outputs": [],
   "source": [
    "nombre = \"Julio\"\n",
    "apellido = 'Epumer'\n",
    "print(nombre[1])\n",
    "print(apellido[-2])\n",
    "print(nombre[1:4])"
   ]
  },
  {
   "cell_type": "markdown",
   "id": "75001e2d",
   "metadata": {},
   "source": [
    "##### len (cantidad de caracteres)"
   ]
  },
  {
   "cell_type": "code",
   "execution_count": null,
   "id": "a05cf954",
   "metadata": {},
   "outputs": [],
   "source": [
    "str = \"La historia de mi vida...\"\n",
    "print(len(str))"
   ]
  },
  {
   "cell_type": "markdown",
   "id": "1f3820f6",
   "metadata": {},
   "source": [
    "##### upper y lower"
   ]
  },
  {
   "cell_type": "code",
   "execution_count": null,
   "id": "b368a47d",
   "metadata": {},
   "outputs": [],
   "source": [
    "str = \"LA historia de mi VIDA...\"\n",
    "print(str.upper())\n",
    "print(str.lower())  "
   ]
  },
  {
   "cell_type": "markdown",
   "id": "2966e30f",
   "metadata": {},
   "source": [
    "##### replace"
   ]
  },
  {
   "cell_type": "code",
   "execution_count": null,
   "id": "ff34a8c5",
   "metadata": {},
   "outputs": [],
   "source": [
    "diva_oculta = \"CUCA\"\n",
    "print(diva_oculta.replace(\"C\", \"X\"))"
   ]
  },
  {
   "cell_type": "markdown",
   "id": "03488688",
   "metadata": {},
   "source": [
    "##### find"
   ]
  },
  {
   "cell_type": "code",
   "execution_count": null,
   "id": "a808f5e3",
   "metadata": {},
   "outputs": [],
   "source": [
    "str = \"LA historia de mi VIDA...\"\n",
    "print(str.find(\"de\"))"
   ]
  },
  {
   "cell_type": "markdown",
   "id": "ac1a1b99",
   "metadata": {},
   "source": [
    "##### strip (elimina espacios en blanco laterales)"
   ]
  },
  {
   "cell_type": "code",
   "execution_count": null,
   "id": "a6c13861",
   "metadata": {},
   "outputs": [],
   "source": [
    "str = \"     LA historia de mi VIDA...    \"\n",
    "print(len(str))\n",
    "print(len(str.strip()))"
   ]
  },
  {
   "cell_type": "markdown",
   "id": "d030c263",
   "metadata": {},
   "source": [
    "##### Tabulación y salto de línea"
   ]
  },
  {
   "cell_type": "code",
   "execution_count": null,
   "id": "9bb4ef92",
   "metadata": {},
   "outputs": [],
   "source": [
    "print(\"Nombre:\\tJulio\")\n",
    "print(\"Edad:\\t25\")\n",
    "print(\"---\")\n",
    "\n",
    "print(\"Hola\\nMundo\")"
   ]
  }
 ],
 "metadata": {
  "kernelspec": {
   "display_name": "Python 3",
   "language": "python",
   "name": "python3"
  },
  "language_info": {
   "codemirror_mode": {
    "name": "ipython",
    "version": 3
   },
   "file_extension": ".py",
   "mimetype": "text/x-python",
   "name": "python",
   "nbconvert_exporter": "python",
   "pygments_lexer": "ipython3",
   "version": "3.10.12"
  }
 },
 "nbformat": 4,
 "nbformat_minor": 5
}
